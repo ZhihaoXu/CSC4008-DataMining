{
 "cells": [
  {
   "cell_type": "markdown",
   "metadata": {},
   "source": [
    "# Apriori"
   ]
  },
  {
   "cell_type": "code",
   "execution_count": 1,
   "metadata": {},
   "outputs": [],
   "source": [
    "import Apriori as ap\n",
    "import numpy as np\n",
    "import pandas as pd"
   ]
  },
  {
   "cell_type": "code",
   "execution_count": 2,
   "metadata": {},
   "outputs": [],
   "source": [
    "dataSet = ap.loadDataSet()\n",
    "Lk, suppData = ap.apriori(dataSet, minSupport=0.2)"
   ]
  },
  {
   "cell_type": "code",
   "execution_count": 3,
   "metadata": {},
   "outputs": [],
   "source": [
    "attribute = pd.read_excel('AS5supermarket_attribute_name.xlsx',header=None)\n",
    "attr = np.array(attribute[1])"
   ]
  },
  {
   "cell_type": "markdown",
   "metadata": {},
   "source": [
    "## top 10 most frequent 2-itemset"
   ]
  },
  {
   "cell_type": "code",
   "execution_count": 4,
   "metadata": {},
   "outputs": [],
   "source": [
    "k = 2\n",
    "result = {}\n",
    "for i in Lk[k-1]:\n",
    "    result[i] = suppData[i]\n",
    "result = sorted(result.items(), key=lambda item: item[1],reverse=True)"
   ]
  },
  {
   "cell_type": "code",
   "execution_count": 5,
   "metadata": {},
   "outputs": [
    {
     "name": "stdout",
     "output_type": "stream",
     "text": [
      "(frozenset({60, 12}), 0.5050788848065701)\n",
      "60         milk-cream \n",
      "12     bread and cake \n",
      "Name: 1, dtype: object\n",
      "(frozenset({82, 12}), 0.5024854117138534)\n",
      "82              fruit \n",
      "12     bread and cake \n",
      "Name: 1, dtype: object\n",
      "(frozenset({12, 85}), 0.49665009725524095)\n",
      "12     bread and cake \n",
      "85         vegetables \n",
      "Name: 1, dtype: object\n",
      "(frozenset({82, 85}), 0.4769829263021396)\n",
      "82          fruit \n",
      "85     vegetables \n",
      "Name: 1, dtype: object\n",
      "(frozenset({12, 13}), 0.4735249621785174)\n",
      "12     bread and cake \n",
      "13       baking needs \n",
      "Name: 1, dtype: object\n",
      "(frozenset({12, 31}), 0.4601253511994813)\n",
      "12     bread and cake \n",
      "31       frozen foods \n",
      "Name: 1, dtype: object\n",
      "(frozenset({17, 12}), 0.4501837043440674)\n",
      "17           biscuits \n",
      "12     bread and cake \n",
      "Name: 1, dtype: object\n",
      "(frozenset({82, 60}), 0.44045818024637995)\n",
      "82          fruit \n",
      "60     milk-cream \n",
      "Name: 1, dtype: object\n",
      "(frozenset({60, 85}), 0.4376485843959369)\n",
      "60     milk-cream \n",
      "85     vegetables \n",
      "Name: 1, dtype: object\n",
      "(frozenset({13, 85}), 0.42122325480873135)\n",
      "13     baking needs \n",
      "85       vegetables \n",
      "Name: 1, dtype: object\n"
     ]
    }
   ],
   "source": [
    "for i in range(10):\n",
    "    print(result[i])\n",
    "    index = list(result[i][0])\n",
    "    print(attribute[1][index])"
   ]
  },
  {
   "cell_type": "markdown",
   "metadata": {},
   "source": [
    "## top 10 most frequent 3-itemset"
   ]
  },
  {
   "cell_type": "code",
   "execution_count": 6,
   "metadata": {},
   "outputs": [
    {
     "name": "stdout",
     "output_type": "stream",
     "text": [
      "(frozenset({82, 12, 85}), 0.38707585908796194)\n",
      "82              fruit \n",
      "12     bread and cake \n",
      "85         vegetables \n",
      "Name: 1, dtype: object\n",
      "(frozenset({82, 12, 60}), 0.3639507240112384)\n",
      "82              fruit \n",
      "12     bread and cake \n",
      "60         milk-cream \n",
      "Name: 1, dtype: object\n",
      "(frozenset({85, 60, 12}), 0.3583315323103523)\n",
      "85         vegetables \n",
      "60         milk-cream \n",
      "12     bread and cake \n",
      "Name: 1, dtype: object\n",
      "(frozenset({85, 12, 13}), 0.3427706937540523)\n",
      "85         vegetables \n",
      "12     bread and cake \n",
      "13       baking needs \n",
      "Name: 1, dtype: object\n",
      "(frozenset({13, 60, 12}), 0.34147395720769397)\n",
      "13       baking needs \n",
      "60         milk-cream \n",
      "12     bread and cake \n",
      "Name: 1, dtype: object\n",
      "(frozenset({82, 60, 85}), 0.3395288523881565)\n",
      "82          fruit \n",
      "60     milk-cream \n",
      "85     vegetables \n",
      "Name: 1, dtype: object\n",
      "(frozenset({82, 12, 13}), 0.33801599308407176)\n",
      "82              fruit \n",
      "12     bread and cake \n",
      "13       baking needs \n",
      "Name: 1, dtype: object\n",
      "(frozenset({82, 12, 31}), 0.33455802896044956)\n",
      "82              fruit \n",
      "12     bread and cake \n",
      "31       frozen foods \n",
      "Name: 1, dtype: object\n",
      "(frozenset({12, 85, 31}), 0.33455802896044956)\n",
      "12     bread and cake \n",
      "85         vegetables \n",
      "31       frozen foods \n",
      "Name: 1, dtype: object\n",
      "(frozenset({17, 82, 12}), 0.3330451696563648)\n",
      "17           biscuits \n",
      "82              fruit \n",
      "12     bread and cake \n",
      "Name: 1, dtype: object\n"
     ]
    }
   ],
   "source": [
    "k = 3\n",
    "result = {}\n",
    "for i in Lk[k-1]:\n",
    "    result[i] = suppData[i]\n",
    "result = sorted(result.items(), key=lambda item: item[1],reverse=True)\n",
    "\n",
    "for i in range(10):\n",
    "    print(result[i])\n",
    "    index = list(result[i][0])\n",
    "    print(attribute[1][index])"
   ]
  },
  {
   "cell_type": "markdown",
   "metadata": {},
   "source": [
    "## top 10 most frequent 4-itemset"
   ]
  },
  {
   "cell_type": "code",
   "execution_count": 7,
   "metadata": {},
   "outputs": [
    {
     "name": "stdout",
     "output_type": "stream",
     "text": [
      "(frozenset({82, 85, 12, 60}), 0.28333693537929544)\n",
      "82              fruit \n",
      "85         vegetables \n",
      "12     bread and cake \n",
      "60         milk-cream \n",
      "Name: 1, dtype: object\n",
      "(frozenset({82, 85, 12, 13}), 0.27123406094661767)\n",
      "82              fruit \n",
      "85         vegetables \n",
      "12     bread and cake \n",
      "13       baking needs \n",
      "Name: 1, dtype: object\n",
      "(frozenset({82, 85, 12, 31}), 0.2684244650961746)\n",
      "82              fruit \n",
      "85         vegetables \n",
      "12     bread and cake \n",
      "31       frozen foods \n",
      "Name: 1, dtype: object\n",
      "(frozenset({17, 82, 85, 12}), 0.26280527339528853)\n",
      "17           biscuits \n",
      "82              fruit \n",
      "85         vegetables \n",
      "12     bread and cake \n",
      "Name: 1, dtype: object\n",
      "(frozenset({12, 85, 60, 13}), 0.2526475037821483)\n",
      "12     bread and cake \n",
      "85         vegetables \n",
      "60         milk-cream \n",
      "13       baking needs \n",
      "Name: 1, dtype: object\n",
      "(frozenset({82, 12, 13, 60}), 0.25091852172033713)\n",
      "82              fruit \n",
      "12     bread and cake \n",
      "13       baking needs \n",
      "60         milk-cream \n",
      "Name: 1, dtype: object\n",
      "(frozenset({17, 82, 12, 31}), 0.24702831208126216)\n",
      "17           biscuits \n",
      "82              fruit \n",
      "12     bread and cake \n",
      "31       frozen foods \n",
      "Name: 1, dtype: object\n",
      "(frozenset({82, 12, 60, 31}), 0.24594769829263022)\n",
      "82              fruit \n",
      "12     bread and cake \n",
      "60         milk-cream \n",
      "31       frozen foods \n",
      "Name: 1, dtype: object\n",
      "(frozenset({85, 60, 12, 31}), 0.24443483898854548)\n",
      "85         vegetables \n",
      "60         milk-cream \n",
      "12     bread and cake \n",
      "31       frozen foods \n",
      "Name: 1, dtype: object\n",
      "(frozenset({17, 82, 60, 12}), 0.242489734169008)\n",
      "17           biscuits \n",
      "82              fruit \n",
      "60         milk-cream \n",
      "12     bread and cake \n",
      "Name: 1, dtype: object\n"
     ]
    }
   ],
   "source": [
    "k = 4\n",
    "result = {}\n",
    "for i in Lk[k-1]:\n",
    "    result[i] = suppData[i]\n",
    "result = sorted(result.items(), key=lambda item: item[1],reverse=True)\n",
    "\n",
    "for i in range(10):\n",
    "    print(result[i])\n",
    "    index = list(result[i][0])\n",
    "    print(attribute[1][index])"
   ]
  },
  {
   "cell_type": "markdown",
   "metadata": {},
   "source": [
    "# FP-growth"
   ]
  },
  {
   "cell_type": "code",
   "execution_count": 8,
   "metadata": {},
   "outputs": [],
   "source": [
    "import FPgrowth as fp"
   ]
  },
  {
   "cell_type": "code",
   "execution_count": 14,
   "metadata": {},
   "outputs": [],
   "source": [
    "minSup = int(len(dataSet)*0.2)\n",
    "initSet = fp.createInitSet(dataSet)\n",
    "numItems = float(len(dataSet))\n",
    "myFPtree, myHeaderTab = fp.createTree(initSet, minSup)"
   ]
  },
  {
   "cell_type": "code",
   "execution_count": 15,
   "metadata": {},
   "outputs": [],
   "source": [
    "freqItemsDict = {}\n",
    "fp.mineFPTree(myFPtree, myHeaderTab, set([]), freqItemsDict, minSup,numItems=float(len(dataSet)))"
   ]
  },
  {
   "cell_type": "code",
   "execution_count": 25,
   "metadata": {},
   "outputs": [],
   "source": [
    "freqItemsDictK2 = {}\n",
    "freqItemsDictK3 = {}\n",
    "freqItemsDictK4 = {}\n",
    "for i in freqItemsDict.keys():\n",
    "    if len(i)==2:\n",
    "        freqItemsDictK2[i] = freqItemsDict[i]\n",
    "    elif len(i)==3:\n",
    "        freqItemsDictK3[i] = freqItemsDict[i]\n",
    "    elif len(i)==4:\n",
    "        freqItemsDictK4[i] = freqItemsDict[i]"
   ]
  },
  {
   "cell_type": "markdown",
   "metadata": {},
   "source": [
    "##  top 10 most frequent 2-itemset"
   ]
  },
  {
   "cell_type": "code",
   "execution_count": 27,
   "metadata": {},
   "outputs": [
    {
     "name": "stdout",
     "output_type": "stream",
     "text": [
      "(frozenset({60, 12}), 0.5050788848065701)\n",
      "60         milk-cream \n",
      "12     bread and cake \n",
      "Name: 1, dtype: object\n",
      "(frozenset({82, 12}), 0.5024854117138534)\n",
      "82              fruit \n",
      "12     bread and cake \n",
      "Name: 1, dtype: object\n",
      "(frozenset({12, 85}), 0.49665009725524095)\n",
      "12     bread and cake \n",
      "85         vegetables \n",
      "Name: 1, dtype: object\n",
      "(frozenset({82, 85}), 0.4769829263021396)\n",
      "82          fruit \n",
      "85     vegetables \n",
      "Name: 1, dtype: object\n",
      "(frozenset({12, 13}), 0.4735249621785174)\n",
      "12     bread and cake \n",
      "13       baking needs \n",
      "Name: 1, dtype: object\n",
      "(frozenset({12, 31}), 0.4601253511994813)\n",
      "12     bread and cake \n",
      "31       frozen foods \n",
      "Name: 1, dtype: object\n",
      "(frozenset({17, 12}), 0.4501837043440674)\n",
      "17           biscuits \n",
      "12     bread and cake \n",
      "Name: 1, dtype: object\n",
      "(frozenset({82, 60}), 0.44045818024637995)\n",
      "82          fruit \n",
      "60     milk-cream \n",
      "Name: 1, dtype: object\n",
      "(frozenset({60, 85}), 0.4376485843959369)\n",
      "60     milk-cream \n",
      "85     vegetables \n",
      "Name: 1, dtype: object\n",
      "(frozenset({85, 13}), 0.42122325480873135)\n",
      "85       vegetables \n",
      "13     baking needs \n",
      "Name: 1, dtype: object\n"
     ]
    }
   ],
   "source": [
    "result = sorted(freqItemsDictK2.items(), key=lambda item: item[1],reverse=True)\n",
    "for i in range(10):\n",
    "    print(result[i])\n",
    "    index = list(result[i][0])\n",
    "    print(attribute[1][index])"
   ]
  },
  {
   "cell_type": "markdown",
   "metadata": {},
   "source": [
    "## top 10 most frequent 3-itemset"
   ]
  },
  {
   "cell_type": "code",
   "execution_count": 28,
   "metadata": {},
   "outputs": [
    {
     "name": "stdout",
     "output_type": "stream",
     "text": [
      "(frozenset({82, 12, 85}), 0.38707585908796194)\n",
      "82              fruit \n",
      "12     bread and cake \n",
      "85         vegetables \n",
      "Name: 1, dtype: object\n",
      "(frozenset({82, 60, 12}), 0.3639507240112384)\n",
      "82              fruit \n",
      "60         milk-cream \n",
      "12     bread and cake \n",
      "Name: 1, dtype: object\n",
      "(frozenset({12, 60, 85}), 0.3583315323103523)\n",
      "12     bread and cake \n",
      "60         milk-cream \n",
      "85         vegetables \n",
      "Name: 1, dtype: object\n",
      "(frozenset({12, 85, 13}), 0.3427706937540523)\n",
      "12     bread and cake \n",
      "85         vegetables \n",
      "13       baking needs \n",
      "Name: 1, dtype: object\n",
      "(frozenset({12, 60, 13}), 0.34147395720769397)\n",
      "12     bread and cake \n",
      "60         milk-cream \n",
      "13       baking needs \n",
      "Name: 1, dtype: object\n",
      "(frozenset({82, 60, 85}), 0.3395288523881565)\n",
      "82          fruit \n",
      "60     milk-cream \n",
      "85     vegetables \n",
      "Name: 1, dtype: object\n",
      "(frozenset({82, 12, 13}), 0.33801599308407176)\n",
      "82              fruit \n",
      "12     bread and cake \n",
      "13       baking needs \n",
      "Name: 1, dtype: object\n",
      "(frozenset({82, 12, 31}), 0.33455802896044956)\n",
      "82              fruit \n",
      "12     bread and cake \n",
      "31       frozen foods \n",
      "Name: 1, dtype: object\n",
      "(frozenset({12, 85, 31}), 0.33455802896044956)\n",
      "12     bread and cake \n",
      "85         vegetables \n",
      "31       frozen foods \n",
      "Name: 1, dtype: object\n",
      "(frozenset({17, 82, 12}), 0.3330451696563648)\n",
      "17           biscuits \n",
      "82              fruit \n",
      "12     bread and cake \n",
      "Name: 1, dtype: object\n"
     ]
    }
   ],
   "source": [
    "result = sorted(freqItemsDictK3.items(), key=lambda item: item[1],reverse=True)\n",
    "for i in range(10):\n",
    "    print(result[i])\n",
    "    index = list(result[i][0])\n",
    "    print(attribute[1][index])"
   ]
  },
  {
   "cell_type": "markdown",
   "metadata": {},
   "source": [
    "##  top 10 most frequent 4-itemset"
   ]
  },
  {
   "cell_type": "code",
   "execution_count": 29,
   "metadata": {},
   "outputs": [
    {
     "name": "stdout",
     "output_type": "stream",
     "text": [
      "(frozenset({82, 12, 60, 85}), 0.28333693537929544)\n",
      "82              fruit \n",
      "12     bread and cake \n",
      "60         milk-cream \n",
      "85         vegetables \n",
      "Name: 1, dtype: object\n",
      "(frozenset({82, 12, 85, 13}), 0.27123406094661767)\n",
      "82              fruit \n",
      "12     bread and cake \n",
      "85         vegetables \n",
      "13       baking needs \n",
      "Name: 1, dtype: object\n",
      "(frozenset({82, 12, 85, 31}), 0.2684244650961746)\n",
      "82              fruit \n",
      "12     bread and cake \n",
      "85         vegetables \n",
      "31       frozen foods \n",
      "Name: 1, dtype: object\n",
      "(frozenset({17, 82, 12, 85}), 0.26280527339528853)\n",
      "17           biscuits \n",
      "82              fruit \n",
      "12     bread and cake \n",
      "85         vegetables \n",
      "Name: 1, dtype: object\n",
      "(frozenset({85, 12, 60, 13}), 0.2526475037821483)\n",
      "85         vegetables \n",
      "12     bread and cake \n",
      "60         milk-cream \n",
      "13       baking needs \n",
      "Name: 1, dtype: object\n",
      "(frozenset({82, 12, 60, 13}), 0.25091852172033713)\n",
      "82              fruit \n",
      "12     bread and cake \n",
      "60         milk-cream \n",
      "13       baking needs \n",
      "Name: 1, dtype: object\n",
      "(frozenset({17, 82, 12, 31}), 0.24702831208126216)\n",
      "17           biscuits \n",
      "82              fruit \n",
      "12     bread and cake \n",
      "31       frozen foods \n",
      "Name: 1, dtype: object\n",
      "(frozenset({82, 60, 12, 31}), 0.24594769829263022)\n",
      "82              fruit \n",
      "60         milk-cream \n",
      "12     bread and cake \n",
      "31       frozen foods \n",
      "Name: 1, dtype: object\n",
      "(frozenset({12, 60, 85, 31}), 0.24443483898854548)\n",
      "12     bread and cake \n",
      "60         milk-cream \n",
      "85         vegetables \n",
      "31       frozen foods \n",
      "Name: 1, dtype: object\n",
      "(frozenset({17, 82, 60, 12}), 0.242489734169008)\n",
      "17           biscuits \n",
      "82              fruit \n",
      "60         milk-cream \n",
      "12     bread and cake \n",
      "Name: 1, dtype: object\n"
     ]
    }
   ],
   "source": [
    "result = sorted(freqItemsDictK4.items(), key=lambda item: item[1],reverse=True)\n",
    "for i in range(10):\n",
    "    print(result[i])\n",
    "    index = list(result[i][0])\n",
    "    print(attribute[1][index])"
   ]
  },
  {
   "cell_type": "code",
   "execution_count": null,
   "metadata": {},
   "outputs": [],
   "source": []
  }
 ],
 "metadata": {
  "kernelspec": {
   "display_name": "Python 3",
   "language": "python",
   "name": "python3"
  },
  "language_info": {
   "codemirror_mode": {
    "name": "ipython",
    "version": 3
   },
   "file_extension": ".py",
   "mimetype": "text/x-python",
   "name": "python",
   "nbconvert_exporter": "python",
   "pygments_lexer": "ipython3",
   "version": "3.7.4"
  },
  "latex_envs": {
   "LaTeX_envs_menu_present": true,
   "autoclose": false,
   "autocomplete": true,
   "bibliofile": "biblio.bib",
   "cite_by": "apalike",
   "current_citInitial": 1,
   "eqLabelWithNumbers": true,
   "eqNumInitial": 1,
   "hotkeys": {
    "equation": "Ctrl-E",
    "itemize": "Ctrl-I"
   },
   "labels_anchors": false,
   "latex_user_defs": false,
   "report_style_numbering": false,
   "user_envs_cfg": false
  },
  "toc": {
   "base_numbering": 1,
   "nav_menu": {},
   "number_sections": true,
   "sideBar": true,
   "skip_h1_title": false,
   "title_cell": "Table of Contents",
   "title_sidebar": "Contents",
   "toc_cell": false,
   "toc_position": {},
   "toc_section_display": true,
   "toc_window_display": false
  }
 },
 "nbformat": 4,
 "nbformat_minor": 4
}
